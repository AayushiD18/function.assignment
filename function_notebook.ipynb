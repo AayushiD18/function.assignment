{
  "nbformat": 4,
  "nbformat_minor": 0,
  "metadata": {
    "colab": {
      "provenance": []
    },
    "kernelspec": {
      "name": "python3",
      "display_name": "Python 3"
    },
    "language_info": {
      "name": "python"
    }
  },
  "cells": [
    {
      "cell_type": "code",
      "source": [
        "#Write a Python function that takes a list of numbers as input and returns the sum of all even numbers in the list."
      ],
      "metadata": {
        "id": "xDjKTpgmEVcC"
      },
      "execution_count": null,
      "outputs": []
    },
    {
      "cell_type": "code",
      "source": [
        "def sum_even_num(num):\n",
        "    sum_even = 0\n",
        "    for num in num:\n",
        "        if num % 2 == 0:\n",
        "            sum_even += num\n",
        "    return sum_even"
      ],
      "metadata": {
        "id": "e5G0qxUWEpWO"
      },
      "execution_count": null,
      "outputs": []
    },
    {
      "cell_type": "code",
      "source": [
        "sum_even_num([2,4,5,6,7,8,10])"
      ],
      "metadata": {
        "colab": {
          "base_uri": "https://localhost:8080/"
        },
        "id": "V0JT8887F45_",
        "outputId": "ef34c360-25c7-4df8-d08a-cd827780db72"
      },
      "execution_count": null,
      "outputs": [
        {
          "output_type": "execute_result",
          "data": {
            "text/plain": [
              "30"
            ]
          },
          "metadata": {},
          "execution_count": 9
        }
      ]
    },
    {
      "cell_type": "code",
      "source": [
        "#Create a Python function that accepts a string and returns the reverse of that string.\n",
        "\n",
        "str = \"Hello\"\n",
        "reverse_str = str[::-1]\n",
        "print(reverse_str)"
      ],
      "metadata": {
        "colab": {
          "base_uri": "https://localhost:8080/"
        },
        "id": "e7ZObsd-F9Zo",
        "outputId": "9a0a3954-0f51-4870-e4c0-1696bdf2383d"
      },
      "execution_count": null,
      "outputs": [
        {
          "output_type": "stream",
          "name": "stdout",
          "text": [
            "olleH\n"
          ]
        }
      ]
    },
    {
      "cell_type": "code",
      "source": [
        "# Implement a Python function that takes a list of integers and returns a new list containing the squares of each number.\n",
        "\n",
        "list = [1,2,3,4,5]\n",
        "square_list = [x**2 for x in list]\n",
        "print(square_list)"
      ],
      "metadata": {
        "colab": {
          "base_uri": "https://localhost:8080/"
        },
        "id": "l-v83N2yV78S",
        "outputId": "9d2386df-e4ce-4ccb-b8ea-284aae64e6f5"
      },
      "execution_count": null,
      "outputs": [
        {
          "output_type": "stream",
          "name": "stdout",
          "text": [
            "[1, 4, 9, 16, 25]\n"
          ]
        }
      ]
    },
    {
      "cell_type": "code",
      "source": [
        "#Write a Python function that checks if a given number is prime or not from 1 to 200.\n",
        "\n",
        "number = 83\n",
        "if is_prime(number):\n",
        "\n",
        "    print(f\"{number} is a prime number\")\n",
        "else:\n",
        "    print(f\"{number} is not a prime number\")"
      ],
      "metadata": {
        "colab": {
          "base_uri": "https://localhost:8080/"
        },
        "id": "e39iaG4oXqOs",
        "outputId": "1f9a2e30-a1b9-4178-fcee-f9b6e293e554"
      },
      "execution_count": null,
      "outputs": [
        {
          "output_type": "stream",
          "name": "stdout",
          "text": [
            "83 is a prime number\n",
            "83 is not a prime number\n"
          ]
        }
      ]
    },
    {
      "cell_type": "code",
      "source": [
        "number = 180\n",
        "if is_prime(number):\n",
        "\n",
        "    print(f\"{number} is a prime number\")\n",
        "else:\n",
        "    print(f\"{number} is not a prime number\")"
      ],
      "metadata": {
        "colab": {
          "base_uri": "https://localhost:8080/"
        },
        "id": "cTO9xzAJpR4W",
        "outputId": "8a5c65a5-a88c-4455-f016-be2b3bf4c98d"
      },
      "execution_count": null,
      "outputs": [
        {
          "output_type": "stream",
          "name": "stdout",
          "text": [
            "180 is not a prime number\n",
            "180 is not a prime number\n"
          ]
        }
      ]
    },
    {
      "cell_type": "code",
      "source": [
        "#Create an iterator class in Python that generates the Fibonacci sequence up to a specified number of terms.\n",
        "\n",
        "#fibonnacci series = a sequence of numbers where each number is the sum of the two numbers before it.\n",
        "\n",
        "def fib(n):\n",
        "    a = 5\n",
        "    b = 4\n",
        "    for i in range(n):\n",
        "        yield a\n",
        "        a,b = b,a+b"
      ],
      "metadata": {
        "id": "qzGYQGW2qdCy"
      },
      "execution_count": null,
      "outputs": []
    },
    {
      "cell_type": "code",
      "source": [
        "f= fib(12345678910)\n",
        "f"
      ],
      "metadata": {
        "colab": {
          "base_uri": "https://localhost:8080/"
        },
        "id": "Kh6UTDAevp11",
        "outputId": "15e77e61-c186-4c6a-dbdb-7157b7a4ccc7"
      },
      "execution_count": null,
      "outputs": [
        {
          "output_type": "execute_result",
          "data": {
            "text/plain": [
              "<generator object fib at 0x7a9b58f6d9a0>"
            ]
          },
          "metadata": {},
          "execution_count": 42
        }
      ]
    },
    {
      "cell_type": "code",
      "source": [
        "next(f)"
      ],
      "metadata": {
        "colab": {
          "base_uri": "https://localhost:8080/"
        },
        "id": "RvXldq3cte8Y",
        "outputId": "bfd538ea-ade4-47b0-f4b7-aef3adda5d78"
      },
      "execution_count": null,
      "outputs": [
        {
          "output_type": "execute_result",
          "data": {
            "text/plain": [
              "5"
            ]
          },
          "metadata": {},
          "execution_count": 43
        }
      ]
    },
    {
      "cell_type": "code",
      "source": [
        "next(f)"
      ],
      "metadata": {
        "colab": {
          "base_uri": "https://localhost:8080/"
        },
        "id": "hSY5NgLItfnr",
        "outputId": "f250e66c-ab7b-4ad8-a4cc-50c75732b2fb"
      },
      "execution_count": null,
      "outputs": [
        {
          "output_type": "execute_result",
          "data": {
            "text/plain": [
              "4"
            ]
          },
          "metadata": {},
          "execution_count": 44
        }
      ]
    },
    {
      "cell_type": "code",
      "source": [
        "next(f)"
      ],
      "metadata": {
        "colab": {
          "base_uri": "https://localhost:8080/"
        },
        "id": "OwnVpYCVtgO3",
        "outputId": "6adc779d-0842-44ef-f0e4-197543cdb63b"
      },
      "execution_count": null,
      "outputs": [
        {
          "output_type": "execute_result",
          "data": {
            "text/plain": [
              "9"
            ]
          },
          "metadata": {},
          "execution_count": 45
        }
      ]
    },
    {
      "cell_type": "code",
      "source": [
        "next(f)"
      ],
      "metadata": {
        "colab": {
          "base_uri": "https://localhost:8080/"
        },
        "id": "LGPqdsJjtclm",
        "outputId": "cb8bf035-d9cf-4afc-81a6-ea868b7b92ae"
      },
      "execution_count": null,
      "outputs": [
        {
          "output_type": "execute_result",
          "data": {
            "text/plain": [
              "13"
            ]
          },
          "metadata": {},
          "execution_count": 46
        }
      ]
    },
    {
      "cell_type": "code",
      "source": [
        "# Write a generator function in Python that yields the powers of 2 up to a given exponent.\n",
        "\n",
        "\n",
        "def square_num_generator(n):\n",
        "    for i in range(n):\n",
        "     yield i**2\n"
      ],
      "metadata": {
        "id": "yH94Lwoatg8G"
      },
      "execution_count": null,
      "outputs": []
    },
    {
      "cell_type": "code",
      "source": [
        "square_num_generator(10)"
      ],
      "metadata": {
        "colab": {
          "base_uri": "https://localhost:8080/"
        },
        "id": "sWqcUWzuvtP3",
        "outputId": "77e2424f-3a03-4af6-8102-1aa2852be889"
      },
      "execution_count": null,
      "outputs": [
        {
          "output_type": "execute_result",
          "data": {
            "text/plain": [
              "<generator object square_num_generator at 0x7a9b58f7edc0>"
            ]
          },
          "metadata": {},
          "execution_count": 79
        }
      ]
    },
    {
      "cell_type": "code",
      "source": [
        "gen = square_num_generator(10)\n",
        "gen"
      ],
      "metadata": {
        "colab": {
          "base_uri": "https://localhost:8080/"
        },
        "id": "gLyRp0ZX05Bd",
        "outputId": "dd0b55af-5ab8-46ac-e671-c756a737e183"
      },
      "execution_count": null,
      "outputs": [
        {
          "output_type": "execute_result",
          "data": {
            "text/plain": [
              "<generator object square_num_generator at 0x7a9b58f7ef80>"
            ]
          },
          "metadata": {},
          "execution_count": 81
        }
      ]
    },
    {
      "cell_type": "code",
      "source": [
        "next(gen)"
      ],
      "metadata": {
        "colab": {
          "base_uri": "https://localhost:8080/"
        },
        "id": "mrA1lSyY07OW",
        "outputId": "a63116c9-4ca1-451c-bee8-2d70f2d092c7"
      },
      "execution_count": null,
      "outputs": [
        {
          "output_type": "execute_result",
          "data": {
            "text/plain": [
              "0"
            ]
          },
          "metadata": {},
          "execution_count": 82
        }
      ]
    },
    {
      "cell_type": "code",
      "source": [
        "next(gen)"
      ],
      "metadata": {
        "colab": {
          "base_uri": "https://localhost:8080/"
        },
        "id": "MlLw763t4wRd",
        "outputId": "8b70b781-64d0-4472-aa77-55a519908056"
      },
      "execution_count": null,
      "outputs": [
        {
          "output_type": "execute_result",
          "data": {
            "text/plain": [
              "1"
            ]
          },
          "metadata": {},
          "execution_count": 83
        }
      ]
    },
    {
      "cell_type": "code",
      "source": [
        "next(gen)"
      ],
      "metadata": {
        "colab": {
          "base_uri": "https://localhost:8080/"
        },
        "id": "ye2k1_6V4w8k",
        "outputId": "03210aba-f6aa-4a90-9ea5-c524c8f2a64f"
      },
      "execution_count": null,
      "outputs": [
        {
          "output_type": "execute_result",
          "data": {
            "text/plain": [
              "4"
            ]
          },
          "metadata": {},
          "execution_count": 84
        }
      ]
    },
    {
      "cell_type": "code",
      "source": [
        "next(gen)"
      ],
      "metadata": {
        "colab": {
          "base_uri": "https://localhost:8080/"
        },
        "id": "YziYQGr84xkn",
        "outputId": "1e5e1232-70db-465b-aa64-5249382dca09"
      },
      "execution_count": null,
      "outputs": [
        {
          "output_type": "execute_result",
          "data": {
            "text/plain": [
              "9"
            ]
          },
          "metadata": {},
          "execution_count": 85
        }
      ]
    },
    {
      "cell_type": "code",
      "source": [
        "next(gen)"
      ],
      "metadata": {
        "colab": {
          "base_uri": "https://localhost:8080/"
        },
        "id": "rWsrfUqQ4yaQ",
        "outputId": "fb79f412-065b-4ed4-8156-049010e35ada"
      },
      "execution_count": null,
      "outputs": [
        {
          "output_type": "execute_result",
          "data": {
            "text/plain": [
              "16"
            ]
          },
          "metadata": {},
          "execution_count": 86
        }
      ]
    },
    {
      "cell_type": "code",
      "source": [
        "#Use a lambda function in Python to sort a list of tuples based on the second element of each tuple.\n",
        "\n",
        "def Sort_Tuple(tup):\n",
        "  lst = len(tup)\n",
        "  for i in range(0, lst):\n",
        "\n",
        "      for j in range(0, lst-i-1):\n",
        "          if (tup[j][1] > tup[j + 1][1]):\n",
        "                temp = tup[j]\n",
        "                tup[j] = tup[j + 1]\n",
        "                tup[j + 1] = temp\n",
        "  return tup\n"
      ],
      "metadata": {
        "id": "PiOrHrPpPM5x"
      },
      "execution_count": 135,
      "outputs": []
    },
    {
      "cell_type": "code",
      "source": [
        "tup = [('for', 24), ('is', 10), ('pwskills', 28),\n",
        "       ('pwskills', 5), ('data', 20), ('a', 15)]"
      ],
      "metadata": {
        "id": "U0wFMetyYkBz"
      },
      "execution_count": 136,
      "outputs": []
    },
    {
      "cell_type": "code",
      "source": [
        "print(Sort_Tuple(tup))"
      ],
      "metadata": {
        "colab": {
          "base_uri": "https://localhost:8080/"
        },
        "id": "r-DaYj7sZwvO",
        "outputId": "d684cdbf-a869-41bd-9d7f-d61cf23fe882"
      },
      "execution_count": 137,
      "outputs": [
        {
          "output_type": "stream",
          "name": "stdout",
          "text": [
            "[('pwskills', 5), ('is', 10), ('a', 15), ('data', 20), ('for', 24), ('pwskills', 28)]\n"
          ]
        }
      ]
    },
    {
      "cell_type": "code",
      "source": [
        "#Write a Python program that uses `map()` to convert a list of temperatures from Celsius to Fahrenheit.\n",
        "\n",
        "def celsius_to_fahrenheit(celsius):\n",
        "   return (celsius * 9/5) + 32\n",
        "   celsius_temps = [0, 10, 20, 30, 40]\n",
        "   fahrenheit_temps = list(map(celsius_to_fahrenheit, celsius_temps))"
      ],
      "metadata": {
        "id": "hidfA0AeZyXy"
      },
      "execution_count": 141,
      "outputs": []
    },
    {
      "cell_type": "code",
      "source": [
        "print(\"Temperatures in Celsius:\", celsius_temps)"
      ],
      "metadata": {
        "colab": {
          "base_uri": "https://localhost:8080/"
        },
        "id": "_5_csx3zaLIy",
        "outputId": "4f8d7f29-c349-482a-d06b-71c5ee15490d"
      },
      "execution_count": 142,
      "outputs": [
        {
          "output_type": "stream",
          "name": "stdout",
          "text": [
            "Temperatures in Celsius: [0, 10, 20, 30, 40]\n"
          ]
        }
      ]
    },
    {
      "cell_type": "code",
      "source": [
        "# Create a Python program that uses `filter()` to remove all the vowels from a given string.\n",
        "\n",
        "def is_not_vowel(char):\n",
        "  vowels = 'aeiouAEIOU'\n",
        "  return char not in vowels"
      ],
      "metadata": {
        "id": "BlTgcvGZadht"
      },
      "execution_count": 144,
      "outputs": []
    },
    {
      "cell_type": "code",
      "source": [
        "s = \"Hello, World!\"\n",
        "result = ''.join(filter(is_not_vowel,s))"
      ],
      "metadata": {
        "id": "wuATBdaqaxY5"
      },
      "execution_count": 146,
      "outputs": []
    },
    {
      "cell_type": "code",
      "source": [
        "print(\"s without vowels:\", result)"
      ],
      "metadata": {
        "colab": {
          "base_uri": "https://localhost:8080/"
        },
        "id": "YkQcKV6Ya0-g",
        "outputId": "ec50bc59-1bda-4bc3-dca8-e1b53dcf0858"
      },
      "execution_count": 149,
      "outputs": [
        {
          "output_type": "stream",
          "name": "stdout",
          "text": [
            "s without vowels: Hll, Wrld!\n"
          ]
        }
      ]
    },
    {
      "cell_type": "code",
      "source": [],
      "metadata": {
        "id": "Qxln4OsDcoct"
      },
      "execution_count": null,
      "outputs": []
    }
  ]
}